{
 "cells": [
  {
   "cell_type": "code",
   "execution_count": 1,
   "metadata": {},
   "outputs": [
    {
     "name": "stdout",
     "output_type": "stream",
     "text": [
      "Res Name\n",
      "ASP    76\n",
      "CTR     9\n",
      "CYS     8\n",
      "GLU    85\n",
      "HIS    45\n",
      "LYS    27\n",
      "NTR     6\n",
      "TYR    10\n",
      "dtype: int64\n",
      "Res Name\n",
      "ASP    25\n",
      "CTR     2\n",
      "CYS     2\n",
      "GLU    28\n",
      "HIS    15\n",
      "LYS     8\n",
      "NTR     2\n",
      "TYR     3\n",
      "dtype: int64\n",
      "Res Name\n",
      "ASP    51\n",
      "CTR     6\n",
      "CYS     5\n",
      "GLU    56\n",
      "HIS    30\n",
      "LYS    18\n",
      "NTR     4\n",
      "TYR     7\n",
      "dtype: int64\n"
     ]
    }
   ],
   "source": [
    "import pandas as pd\n",
    "import numpy as np\n",
    "\n",
    "train_df = pd.read_csv('train.csv')\n",
    "test_df = pd.read_csv('test.csv')\n",
    "val_df = pd.read_csv('val.csv')\n",
    "\n",
    "print(train_df.groupby('Res Name').size())\n",
    "print(val_df.groupby('Res Name').size())\n",
    "print(test_df.groupby('Res Name').size())"
   ]
  }
 ],
 "metadata": {
  "kernelspec": {
   "display_name": "pka",
   "language": "python",
   "name": "python3"
  },
  "language_info": {
   "codemirror_mode": {
    "name": "ipython",
    "version": 3
   },
   "file_extension": ".py",
   "mimetype": "text/x-python",
   "name": "python",
   "nbconvert_exporter": "python",
   "pygments_lexer": "ipython3",
   "version": "3.12.2"
  }
 },
 "nbformat": 4,
 "nbformat_minor": 2
}
