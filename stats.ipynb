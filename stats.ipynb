{
 "cells": [
  {
   "cell_type": "code",
   "execution_count": 1,
   "metadata": {},
   "outputs": [
    {
     "name": "stdout",
     "output_type": "stream",
     "text": [
      "Res Name\n",
      "ASP    76\n",
      "CTR     5\n",
      "CYS    10\n",
      "GLU    88\n",
      "HIS    48\n",
      "LYS    27\n",
      "NTR     2\n",
      "TYR     4\n",
      "dtype: int64\n",
      "Res Name\n",
      "ASP    38\n",
      "CTR     3\n",
      "CYS     5\n",
      "GLU    45\n",
      "HIS    24\n",
      "LYS    14\n",
      "NTR     2\n",
      "TYR     3\n",
      "dtype: int64\n"
     ]
    }
   ],
   "source": [
    "import pandas as pd\n",
    "import numpy as np\n",
    "\n",
    "train_df = pd.read_csv('train.csv')\n",
    "test_df = pd.read_csv('test.csv')\n",
    "\n",
    "print(train_df.groupby('Res Name').size())\n",
    "print(test_df.groupby('Res Name').size())"
   ]
  }
 ],
 "metadata": {
  "kernelspec": {
   "display_name": "pka",
   "language": "python",
   "name": "python3"
  },
  "language_info": {
   "codemirror_mode": {
    "name": "ipython",
    "version": 3
   },
   "file_extension": ".py",
   "mimetype": "text/x-python",
   "name": "python",
   "nbconvert_exporter": "python",
   "pygments_lexer": "ipython3",
   "version": "3.12.2"
  }
 },
 "nbformat": 4,
 "nbformat_minor": 2
}
